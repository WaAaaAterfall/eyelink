{
 "cells": [
  {
   "attachments": {},
   "cell_type": "markdown",
   "metadata": {},
   "source": [
    "# Analyzing the behavior before selecting pictures"
   ]
  },
  {
   "cell_type": "code",
   "execution_count": 1,
   "metadata": {},
   "outputs": [
    {
     "name": "stdout",
     "output_type": "stream",
     "text": [
      "[[0 333603557.0 '1146.1' ... nan nan nan]\n",
      " [1 333603557.0 '1145.8' ... nan nan nan]\n",
      " [2 333603558.0 '1145.8' ... nan nan nan]\n",
      " ...\n",
      " [744956 333976193.0 '1234.4' ... '917' nan nan]\n",
      " [744957 333976193.0 '1234.1' ... '917' nan nan]\n",
      " [744958 333976194.0 '1233.8' ... nan nan nan]]\n"
     ]
    }
   ],
   "source": [
    "import pandas as pd\n",
    "headers = ['col1', 'col2', 'col3', 'col4', 'col5', 'col6', 'col7', 'col8', 'col9', 'col10']\n",
    "data_f = pd.read_csv('final_data.csv', sep=',', skiprows = 1, header=None, names=headers, dtype={\"col1\": int, \"col2\": float, \"col3\": object, \"col4\": object, \"col5\": float, \"col6\": float, \"col7\": object, \"col8\": object, \"col9\": object, \"col10\": object})\n",
    "data = data_f.to_numpy()\n",
    "print(data)"
   ]
  },
  {
   "attachments": {},
   "cell_type": "markdown",
   "metadata": {},
   "source": [
    "# perspective output format\n",
    "## trial_index, time_start, time_end, duration(response time), box_chosen, correct_or_not, time_on_selected_picture, time_on_pic_0.2, time_on_pic_0.4, time_on_pic_0.6, time_on_pic_0.8, percentage_on_pic_0.2, percentage_on_pic_0.4, percentage_on_pic_0.6, percentage_on_pic_0.8\n",
    "## time: 1s = 2000 lines, 0.2s = 400, 0.4s = 800, 0.6s = 1200, 0.8s = 1600"
   ]
  },
  {
   "cell_type": "code",
   "execution_count": null,
   "metadata": {},
   "outputs": [],
   "source": []
  }
 ],
 "metadata": {
  "kernelspec": {
   "display_name": "base",
   "language": "python",
   "name": "python3"
  },
  "language_info": {
   "codemirror_mode": {
    "name": "ipython",
    "version": 3
   },
   "file_extension": ".py",
   "mimetype": "text/x-python",
   "name": "python",
   "nbconvert_exporter": "python",
   "pygments_lexer": "ipython3",
   "version": "3.10.9"
  },
  "orig_nbformat": 4
 },
 "nbformat": 4,
 "nbformat_minor": 2
}
