{
 "cells": [
  {
   "attachments": {},
   "cell_type": "markdown",
   "metadata": {},
   "source": [
    "# Analyzing the behavior before selecting pictures"
   ]
  },
  {
   "cell_type": "code",
   "execution_count": null,
   "metadata": {},
   "outputs": [],
   "source": [
    "import pandas as pd\n",
    "import numpy as np\n",
    "import os\n",
    "import matplotlib.pyplot as plt"
   ]
  },
  {
   "cell_type": "code",
   "execution_count": null,
   "metadata": {},
   "outputs": [],
   "source": [
    "day = '0226'"
   ]
  },
  {
   "cell_type": "code",
   "execution_count": null,
   "metadata": {},
   "outputs": [],
   "source": [
    "\n",
    "headers = ['col1', 'col2', 'col3', 'col4', 'col5', 'col6', 'col7', 'col8', 'col9', 'col10']\n",
    "data_f = pd.read_csv(''+day+'/final_data.csv', sep=',', skiprows = 1, header=None, names=headers, dtype={\"col1\": int, \"col2\": float, \"col3\": object, \"col4\": object, \"col5\": float, \"col6\": float, \"col7\": object, \"col8\": object, \"col9\": object, \"col10\": object})\n",
    "data = data_f.to_numpy()\n",
    "print(data)"
   ]
  },
  {
   "attachments": {},
   "cell_type": "markdown",
   "metadata": {},
   "source": [
    "## output format\n",
    "- trial_index, time_start, time_end, duration(response time), box_chosen, correct_or_not, time_on_selected_picture, time_on_pic_0.2, time_on_pic_0.4, time_on_pic_0.6, time_on_pic_0.8, percentage_on_pic_0.2, percentage_on_pic_0.4, percentage_on_pic_0.6, percentage_on_pic_0.8\n",
    "- time: 1s = 2000 lines, 0.2s = 400, 0.4s = 800, 0.6s = 1200, 0.8s = 1600. Thus, 1 line = 1/2000s"
   ]
  },
  {
   "cell_type": "code",
   "execution_count": null,
   "metadata": {},
   "outputs": [],
   "source": [
    "output = np.empty((100, 16), dtype=object)\n",
    "output[:] = \"\"\n"
   ]
  },
  {
   "cell_type": "code",
   "execution_count": null,
   "metadata": {},
   "outputs": [],
   "source": [
    "df_header = pd.read_csv(''+day+'/J_'+day+'_BHV/2023'+day+'_bhv.csv')\n",
    "print(''+day+'/J_'+day+'_BHV/2023'+day+'_bhv.csv')\n",
    "print(df_header)"
   ]
  },
  {
   "cell_type": "code",
   "execution_count": null,
   "metadata": {},
   "outputs": [],
   "source": [
    "print(df_header['pic_chosen'])\n",
    "print(df_header['pic_chosen_position'].to_numpy().shape)"
   ]
  },
  {
   "cell_type": "code",
   "execution_count": null,
   "metadata": {},
   "outputs": [],
   "source": [
    "def in_08(i, end_data_index):\n",
    "    if (end_data_index - i) / 2000 <= 0.8:\n",
    "        return True\n",
    "    return False\n",
    "\n",
    "\n",
    "def in_06(i, end_data_index):\n",
    "    if (end_data_index - i) / 2000 <= 0.6:\n",
    "        return True\n",
    "    return False\n",
    "\n",
    "\n",
    "def in_04(i, end_data_index):\n",
    "    if (end_data_index - i) / 2000 <= 0.4:\n",
    "        return True\n",
    "    return False\n",
    "\n",
    "\n",
    "def in_02(i, end_data_index):\n",
    "    if (end_data_index - i) / 2000 <= 0.2:\n",
    "        return True\n",
    "    return False\n",
    "\n",
    "\n",
    "def cal_response_time(start_data_index, end_data_index, data):\n",
    "    response_time = (data[end_data_index - 2000][0] - data[start_data_index][0]) / 2000\n",
    "    return response_time\n",
    "\n",
    "\n",
    "def cal_time_on_pic(chosen_pic, start_data_index, end_data_index, data):\n",
    "    num_chosen_pic = 0\n",
    "    num_chosen_pic_08 = 0\n",
    "    num_chosen_pic_06 = 0\n",
    "    num_chosen_pic_04 = 0\n",
    "    num_chosen_pic_02 = 0\n",
    "    num_pic = 0\n",
    "    num_pic_08 = 0\n",
    "    num_pic_06 = 0\n",
    "    num_pic_04 = 0\n",
    "    num_pic_02 = 0\n",
    "    for i in range(start_data_index, end_data_index):\n",
    "        if '.png' in data[i][-1]:\n",
    "            num_pic += 1\n",
    "            if in_08(i, end_data_index):\n",
    "                num_pic_08 += 1\n",
    "            if in_06(i, end_data_index):\n",
    "                num_pic_06 += 1\n",
    "            if in_04(i, end_data_index):\n",
    "                num_pic_04 += 1\n",
    "            if in_02(i, end_data_index):\n",
    "                num_pic_02 += 1\n",
    "\n",
    "            if data[i][-1] == chosen_pic:\n",
    "                num_chosen_pic += 1\n",
    "                if in_08(i, end_data_index):\n",
    "                    num_chosen_pic_08 += 1\n",
    "                if in_06(i, end_data_index):\n",
    "                    num_chosen_pic_06 += 1\n",
    "                if in_04(i, end_data_index):\n",
    "                    num_chosen_pic_04 += 1\n",
    "                if in_02(i, end_data_index):\n",
    "                    num_chosen_pic_02 += 1\n",
    "    \n",
    "    time_on_pic = num_chosen_pic / 2000\n",
    "    time_on_pic_08 = num_chosen_pic_08 / 2000\n",
    "    time_on_pic_06 = num_chosen_pic_06 / 2000\n",
    "    time_on_pic_04 = num_chosen_pic_04 / 2000\n",
    "    time_on_pic_02 = num_chosen_pic_02 / 2000\n",
    "    segment_num = [num_chosen_pic, num_chosen_pic_02, num_chosen_pic_04, num_chosen_pic_06, num_chosen_pic_08]\n",
    "    total_view_num = [num_pic, num_pic_02, num_pic_04, num_pic_06, num_pic_08]\n",
    "    prop, prop_02, prop_04, prop_06, prop_08 = cal_prop_on_pic(segment_num, total_view_num)\n",
    "    return time_on_pic, time_on_pic_02, time_on_pic_04, time_on_pic_06, time_on_pic_08, prop, prop_02, prop_04, prop_06, prop_08\n",
    "\n",
    "\n",
    "def cal_prop_on_pic(segment_num, total_view_num): #segment_time (5,)\n",
    "    prop =  0 if (total_view_num[0] == 0) else (segment_num[0] / total_view_num[0])\n",
    "    prop_02 = 0 if (total_view_num[1] == 0) else (segment_num[1] / total_view_num[1])\n",
    "    prop_04 = 0 if (total_view_num[2] == 0) else (segment_num[2] / total_view_num[2])\n",
    "    prop_06 = 0 if (total_view_num[3] == 0) else (segment_num[3] / total_view_num[3])\n",
    "    prop_08 = 0 if (total_view_num[4] == 0) else (segment_num[4] / total_view_num[4])\n",
    "    return prop, prop_02, prop_04, prop_06, prop_08 \n"
   ]
  },
  {
   "cell_type": "code",
   "execution_count": null,
   "metadata": {},
   "outputs": [],
   "source": [
    "trial_index = 0\n",
    "current_data_index = 0\n",
    "# 0:5 trial_index, time_start, time_end, duration(response time), box_chosen, correct_or_not, \n",
    "# 6:10 time_on_selected_picture, time_on_pic_0.2, time_on_pic_0.4, time_on_pic_0.6, time_on_pic_0.8, \n",
    "# 11:15 percent_on_pic_trial, percentage_on_pic_0.2, percentage_on_pic_0.4, percentage_on_pic_0.6, percentage_on_pic_0.8\n",
    "print(np.shape(data)[0])\n",
    "try:\n",
    "    while current_data_index < np.shape(data)[0] and trial_index < 100:\n",
    "        if current_data_index % 100000 == 0:\n",
    "            print(\"track\", current_data_index)\n",
    "        if data[current_data_index][-2] is np.nan:\n",
    "            current_data_index += 1\n",
    "        elif 'forcedchoice_start' in data[current_data_index][-2]:\n",
    "            output[trial_index][0] = trial_index\n",
    "            output[trial_index][1] = data[current_data_index][1]\n",
    "            start_data_index = current_data_index\n",
    "            while not data[current_data_index][-2] is np.nan and 'forcedchoice_start' in data[current_data_index][-2]:\n",
    "                current_data_index += 1\n",
    "            end_data_index = current_data_index\n",
    "            print(\"trial end at\", end_data_index)\n",
    "            output[trial_index][2] = data[end_data_index - 1][1]\n",
    "            output[trial_index][3] = cal_response_time(start_data_index, end_data_index, data)\n",
    "            output[trial_index][4] = df_header['pic_chosen_position'][trial_index]\n",
    "            output[trial_index][5] = df_header['response'][trial_index]\n",
    "            chosen_pic = df_header['pic_chosen'][trial_index]\n",
    "            output[trial_index][6], output[trial_index][7], output[trial_index][8], output[trial_index][9], output[trial_index][10], output[trial_index][11], output[trial_index][12], output[trial_index][13], output[trial_index][14], output[trial_index][15]  = cal_time_on_pic(chosen_pic, start_data_index, end_data_index - 2000, data)\n",
    "            trial_index += 1\n",
    "        elif 'forcedmemory_start' in data[current_data_index][-2]:\n",
    "            current_data_index += 1\n",
    "        else:\n",
    "            print(\"error occurs in line\", current_data_index)\n",
    "            raise(ValueError) \n",
    "except ValueError:\n",
    "    print(\"???\")"
   ]
  },
  {
   "cell_type": "code",
   "execution_count": null,
   "metadata": {},
   "outputs": [],
   "source": [
    "print(output)"
   ]
  },
  {
   "cell_type": "code",
   "execution_count": null,
   "metadata": {},
   "outputs": [],
   "source": [
    "# 0:5 trial_index, time_start, time_end, duration(response time), box_chosen, correct_or_not, \n",
    "# 6:10 time_on_selected_picture, time_on_pic_0.2, time_on_pic_0.4, time_on_pic_0.6, time_on_pic_0.8, \n",
    "# 11:15 percent_on_pic_trial, percentage_on_pic_0.2, percentage_on_pic_0.4, percentage_on_pic_0.6, percentage_on_pic_0.8\n",
    "correct_response_time = []\n",
    "incorrect_response_time = []\n",
    "target_valid = []\n",
    "target_valid_08 = []\n",
    "target_valid_06 = []\n",
    "target_valid_04 = []\n",
    "target_valid_02 = []\n",
    "foil_valid = []\n",
    "foil_valid_08 = []\n",
    "foil_valid_06 = []\n",
    "foil_valid_04 = []\n",
    "foil_valid_02 = []\n",
    "\n",
    "for record in output:\n",
    "    if record[5] == 1:\n",
    "        correct_response_time.append(record[3])\n",
    "        if record[11] != 0:\n",
    "            target_valid.append(record[11])\n",
    "        if record[3] >= 0.2 and record[12] != 0:\n",
    "            target_valid_02.append(record[12])\n",
    "        if record[3] >= 0.4 and record[13] != 0:\n",
    "            target_valid_04.append(record[13])\n",
    "        if record[3] >= 0.6 and record[14] != 0:\n",
    "            target_valid_06.append(record[14])\n",
    "        if record[3] >= 0.8 and record[15] != 0:\n",
    "            target_valid_08.append(record[15])\n",
    "    elif record[5] == 0:\n",
    "        incorrect_response_time.append(record[3])\n",
    "        if record[11] != 0:\n",
    "            foil_valid.append(record[11])\n",
    "        if record[3] >= 0.2 and record[12] != 0:\n",
    "            foil_valid_02.append(record[12])\n",
    "        if record[3] >= 0.4 and record[13] != 0:\n",
    "            foil_valid_04.append(record[13])\n",
    "        if record[3] >= 0.6 and record[14] != 0:\n",
    "            foil_valid_06.append(record[14])\n",
    "        if record[3] >= 0.8 and record[15] != 0:\n",
    "            foil_valid_08.append(record[15])\n",
    "\n"
   ]
  },
  {
   "cell_type": "code",
   "execution_count": null,
   "metadata": {},
   "outputs": [],
   "source": [
    "foil_valid"
   ]
  },
  {
   "cell_type": "code",
   "execution_count": null,
   "metadata": {},
   "outputs": [],
   "source": [
    "plt.figure(figsize=(10,5))\n",
    "plt.subplot(1,2,1)\n",
    "plt.title('Percentage Viewing Time_all trials')\n",
    "#plt.bar(['target_viewing_time_percent','foil_viewing_time_percent'], [df_all['target_viewing_time_percent'].mean(),df_all['foil_viewing_time_percent'].mean()],color=['blue','yellow'], width=0.)\n",
    "plt.bar(['Target','Foil'], [np.mean(target_valid), np.mean(foil_valid)],color=['blue','yellow'], width=0.8)\n",
    "\n",
    "plt.subplot(1,2,2)\n",
    "plt.title('time_before_response')\n",
    "x_axis = [\"0.8\", \"0.6\", \"0.4\", \"0.2\"]\n",
    "mean_values_target = [np.mean(target_valid_08), np.mean(target_valid_06), np.mean(target_valid_04), np.mean(target_valid_02)]\n",
    "mean_values_foil = [np.mean(foil_valid_08), np.mean(foil_valid_06), np.mean(foil_valid_04), np.mean(foil_valid_02)]\n",
    "print(foil_valid_08)\n",
    "plt.plot(x_axis, mean_values_target, marker='o', label='target')\n",
    "# Plot the second line\n",
    "plt.plot(x_axis, mean_values_foil, marker='o', label='foil')\n",
    "\n",
    "plt.legend()"
   ]
  },
  {
   "cell_type": "code",
   "execution_count": null,
   "metadata": {},
   "outputs": [],
   "source": []
  },
  {
   "cell_type": "code",
   "execution_count": null,
   "metadata": {},
   "outputs": [],
   "source": []
  }
 ],
 "metadata": {
  "kernelspec": {
   "display_name": "base",
   "language": "python",
   "name": "python3"
  },
  "language_info": {
   "codemirror_mode": {
    "name": "ipython",
    "version": 3
   },
   "file_extension": ".py",
   "mimetype": "text/x-python",
   "name": "python",
   "nbconvert_exporter": "python",
   "pygments_lexer": "ipython3",
   "version": "3.10.9"
  },
  "orig_nbformat": 4
 },
 "nbformat": 4,
 "nbformat_minor": 2
}
