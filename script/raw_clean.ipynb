{
 "cells": [
  {
   "cell_type": "raw",
   "id": "b1645e9d",
   "metadata": {},
   "source": [
    "Trail messages\n",
    "\n",
    "selfpaced_start_m_start\n",
    "selfpaced_start_m_end\n",
    "\n",
    "forcedmemory_start_pic_0\n",
    "forcedmemory_end_pic_0\n",
    "\tmemory_iti_start\n",
    "\tmemory_iti_end\n",
    "\n",
    "forcedmemory_start_pic_1\n",
    "forcedmemory_end_pic_1\n",
    "\tmemory_iti_start\n",
    "\tmemory_iti_end\n",
    "\n",
    "forcedmemory_start_pic_2\n",
    "forcedmemory_end_pic_2\n",
    "\tmemory_iti_start\n",
    "\tmemory_iti_end\n",
    "\n",
    "forcedmemory_start_pic_3\n",
    "forcedmemory_end_pic_3\n",
    "\tmemory_iti_start\n",
    "\tmemory_iti_end\n",
    "\t\n",
    "delay_start\n",
    "delay_end\n",
    "\n",
    "forcedchoice_start_0\n",
    "forcedchoice_end_0\n",
    "\treward_start_0/ punishment_start_\n",
    "\treward_end_0/ punishment_end_\n",
    "\tjitter_iti_start_0\n",
    "\tjitter_iti_end_0\n",
    "\n",
    "forcedchoice_start_1\n",
    "forcedchoice_end_1\n",
    "\treward_start_1/ punishment_start_\n",
    "\treward_end_1/ punishment_end_\n",
    "\tjitter_iti_start_1\n",
    "\tjitter_iti_end_1\n",
    "\n",
    "forcedchoice_start_2\n",
    "forcedchoice_end_2\n",
    "\treward_start_2/ punishment_start_\n",
    "\treward_end_2/ punishment_end_\n",
    "\tjitter_iti_start_2\n",
    "\tjitter_iti_end_2\n",
    "\n",
    "forcedchoice_start_3\n",
    "forcedchoice_end_3\n",
    "\treward_start_3/ punishment_start_\n",
    "\treward_end_3/ punishment_end_\n",
    "\tjitter_iti_start_3\n",
    "\tjitter_iti_end_3"
   ]
  },
  {
   "cell_type": "code",
   "execution_count": null,
   "id": "1d03f242",
   "metadata": {},
   "outputs": [],
   "source": [
    "import os\n",
    "import pandas as pd\n",
    "import numpy as np"
   ]
  },
  {
   "cell_type": "code",
   "execution_count": null,
   "id": "94af1671",
   "metadata": {},
   "outputs": [],
   "source": [
    "# 定义文件夹路径和文件扩展名\n",
    "folder_path = r\".\" #\"D:\\Jupiter_eyemovement_data\\Pic_TOJ\\formal\\SESSION1\\ASC\"\n",
    "file_extension = \".asc\"\n",
    "\n",
    "# 获取所有ASC文件的路径列表\n",
    "asc_file_paths = [os.path.join(folder_path, file_name) for file_name in os.listdir(folder_path) if file_name.endswith(file_extension)]\n",
    "# asc_file_paths\n",
    "\n",
    "# # 对每个ASC文件执行批处理操作\n",
    "# for asc_file_path in asc_file_paths:\n",
    "#     # 执行你要进行的批处理操作\n",
    "#     # 以下示例操作是将文件复制到一个新文件夹中\n",
    "#     new_folder_path = os.path.join(folder_path, \"processed\")\n",
    "#     os.makedirs(new_folder_path, exist_ok=True)\n",
    "#     file_name = os.path.basename(asc_file_path)\n",
    "#     new_file_path = os.path.join(new_folder_path, file_name)\n",
    "#     shutil.copy(asc_file_path, new_file_path)\n"
   ]
  },
  {
   "cell_type": "code",
   "execution_count": null,
   "id": "aca3ca53",
   "metadata": {},
   "outputs": [],
   "source": [
    "def is_number(line):\n",
    "    try: \n",
    "        int(line[0])\n",
    "    except ValueError:\n",
    "        return False\n",
    "    return True\n",
    "\n",
    "def is_msg(line):\n",
    "    if line[0:3] == 'MSG':\n",
    "        return True\n",
    "    return False \n",
    "\n",
    "def is_newline(line):\n",
    "    if line == '' or line == '\\n':\n",
    "        return True\n",
    "    return False\n",
    "\n",
    "def is_fix(line):\n",
    "    if \"SFIX\" in line or \"EFIX\" in line:\n",
    "        return True\n",
    "    return False\n",
    "\n",
    "def is_sacc(line):\n",
    "    if \"SSACC\" in line or \"ESACC\" in line:\n",
    "        return True\n",
    "    return False\n",
    "\n",
    "def is_blink(line):\n",
    "    if \"SBLINK\" in line or \"EBLINK\" in line:\n",
    "        return True\n",
    "    return False    "
   ]
  },
  {
   "cell_type": "code",
   "execution_count": null,
   "id": "f3550cf9",
   "metadata": {},
   "outputs": [],
   "source": [
    "list_day = ['0223', '0224', '0225', '0226', '0227', '0228', '0301', '0302', '0303', '0304', '0305', '0306']\n",
    "for day in list_day:\n",
    "    for i in range(1, 6):\n",
    "        section = i\n",
    "        path = f'{day}0{i}'\n",
    "        os.mkdir(\"\" + day + \"/\" + path)\n"
   ]
  },
  {
   "cell_type": "code",
   "execution_count": null,
   "id": "f6021b19",
   "metadata": {},
   "outputs": [],
   "source": [
    "expect_dir = '030705/'\n",
    "file_to_parse = 'J030705.asc'"
   ]
  },
  {
   "cell_type": "code",
   "execution_count": null,
   "id": "3d8b20ff",
   "metadata": {},
   "outputs": [],
   "source": []
  },
  {
   "cell_type": "code",
   "execution_count": null,
   "id": "d1eb6885",
   "metadata": {},
   "outputs": [],
   "source": [
    "print(\"start parsing file %s\"%file_to_parse)\n",
    "file = open(file_to_parse, 'r')\n",
    "lines = file.read().splitlines(True)\n",
    "header_split = 0\n",
    "for i in range(0, len(lines) - 2):\n",
    "    if is_msg(lines[i]) & is_newline(lines[i+1]) & is_number(lines[i+2]):\n",
    "        header_split = i + 2\n",
    "        break\n",
    "original_removed_header = np.array(lines[header_split:])\n",
    "print(np.shape(original_removed_header))\n",
    "print('finish remove header for file', file_to_parse)\n",
    "file.close()"
   ]
  },
  {
   "cell_type": "code",
   "execution_count": null,
   "id": "8ecd5987",
   "metadata": {},
   "outputs": [],
   "source": [
    "# def remove_header(files):\n",
    "#     original_removed_header = np.nan\n",
    "#     for file_to_parse in files:\n",
    "#         print(\"start parsing file %s\"%file_to_parse)\n",
    "#         file = open(file_to_parse, 'r')\n",
    "#         lines = file.read().splitlines(True)\n",
    "#         header_split = 0\n",
    "#         for i in range(0, len(lines) - 2):\n",
    "#             if is_msg(lines[i]) & is_newline(lines[i+1]) & is_number(lines[i+2]):\n",
    "#                 header_split = i + 2\n",
    "#                 break\n",
    "#         if original_removed_header is np.nan:\n",
    "#             original_removed_header = np.array(lines[header_split:])\n",
    "#             print(np.shape(original_removed_header))\n",
    "#         else:\n",
    "#             original_removed_header = np.concatenate((original_removed_header, np.array(lines[header_split:])), axis = 0)\n",
    "#         print('finish remove header for file', file_to_parse)\n",
    "#         print(\"size:\", np.shape(original_removed_header))\n",
    "#     return original_removed_header\n",
    "\n",
    "# files = ['J030701.asc', 'J030702.asc', 'J030703.asc', 'J030704.asc', 'J030705.asc']\n",
    "# original_removed_header = remove_header(files)\n"
   ]
  },
  {
   "cell_type": "code",
   "execution_count": null,
   "id": "c2fb882e",
   "metadata": {},
   "outputs": [],
   "source": [
    "original_size = np.shape(original_removed_header)\n",
    "print(original_removed_header)\n",
    "print(original_size[0])"
   ]
  },
  {
   "cell_type": "code",
   "execution_count": null,
   "id": "f890b7a6",
   "metadata": {},
   "outputs": [],
   "source": [
    "msg = []\n",
    "fix = []\n",
    "sacc = []\n",
    "blink = []\n",
    "miss = []\n",
    "removed_header = original_removed_header"
   ]
  },
  {
   "cell_type": "code",
   "execution_count": null,
   "id": "a1f56871",
   "metadata": {},
   "outputs": [],
   "source": [
    "for i in reversed(range(np.size(removed_header))):\n",
    "    if i % 100000 == 0:\n",
    "        print(i)\n",
    "    if is_number(removed_header[i]):\n",
    "        continue\n",
    "    else:\n",
    "        if is_msg(removed_header[i]):\n",
    "            msg.append(removed_header[i])\n",
    "        elif is_blink(removed_header[i]):\n",
    "            blink.append(removed_header[i])\n",
    "        elif is_fix(removed_header[i]):\n",
    "            fix.append(removed_header[i])\n",
    "        elif is_sacc(removed_header[i]):\n",
    "            sacc.append(removed_header[i])\n",
    "        else:\n",
    "            miss.append(removed_header[i])\n",
    "        removed_header = np.delete(removed_header, i, 0)\n",
    "print(len(msg) + len(fix) + len(blink) + len(sacc) + len(miss) + np.size(removed_header) == original_size[0])\n"
   ]
  },
  {
   "cell_type": "code",
   "execution_count": null,
   "id": "2bd6972f",
   "metadata": {},
   "outputs": [],
   "source": [
    "print(original_removed_header)"
   ]
  },
  {
   "cell_type": "code",
   "execution_count": null,
   "id": "1ac5d366",
   "metadata": {},
   "outputs": [],
   "source": [
    "nparr = np.asarray(removed_header)\n",
    "out_arr = np.char.split(nparr)"
   ]
  },
  {
   "cell_type": "code",
   "execution_count": null,
   "id": "2d8d1737",
   "metadata": {},
   "outputs": [],
   "source": [
    "arr = np.asarray([np.array(line) for line in out_arr])"
   ]
  },
  {
   "cell_type": "code",
   "execution_count": null,
   "id": "6da5ad4a",
   "metadata": {},
   "outputs": [],
   "source": [
    "remove_dot = arr[:, :-1]\n",
    "pd.DataFrame(remove_dot).to_csv(\"\"+ expect_dir + 'data.csv', index_label = \"Index\", header  = ['Time','x','y','pupil size','CR'])"
   ]
  },
  {
   "cell_type": "code",
   "execution_count": null,
   "id": "220dce23",
   "metadata": {},
   "outputs": [],
   "source": [
    "print(msg)\n",
    "for i in range(len(msg)):\n",
    "    msg[i] = msg[i].replace('\\t', ' ')\n",
    "print(msg)\n",
    "split_msg = np.char.split(msg)\n",
    "for i in range(len(split_msg)):\n",
    "    if len(split_msg[i])>3:\n",
    "        for str in split_msg[i][3:]:\n",
    "            split_msg[i][2] += \" \"\n",
    "            split_msg[i][2] += str\n",
    "            split_msg[i].remove(str)\n",
    "print(split_msg)\n",
    "np_msg = np.asarray([np.array(line) for line in split_msg])\n",
    "np_msg"
   ]
  },
  {
   "cell_type": "code",
   "execution_count": null,
   "id": "fb0085b7",
   "metadata": {},
   "outputs": [],
   "source": [
    "reverse_msg = np_msg[::-1]\n",
    "pd.DataFrame(reverse_msg).to_csv(\"\"+ expect_dir + 'msg.csv', index_label = \"Index\", header  = ['Type','Time','Desceiption'])"
   ]
  },
  {
   "cell_type": "code",
   "execution_count": null,
   "id": "ff6cbb87",
   "metadata": {},
   "outputs": [],
   "source": [
    "print(fix)\n",
    "for i in range(len(fix)):\n",
    "    fix[i] = fix[i].replace('\\t', ' ')\n",
    "split_fix = np.char.split(fix)\n",
    "print(np.shape(split_fix)[0])\n",
    "for i in reversed(range(np.shape(split_fix)[0])):\n",
    "    if split_fix[i][0] == \"SFIX\":\n",
    "        split_fix = np.delete(split_fix, i, 0)\n",
    "print(split_fix)"
   ]
  },
  {
   "cell_type": "code",
   "execution_count": null,
   "id": "6e6d48da",
   "metadata": {},
   "outputs": [],
   "source": [
    "import csv\n",
    "with open('FIX.csv', 'w') as f:\n",
    "      \n",
    "    # using csv.writer method from CSV package\n",
    "    write = csv.writer(f)\n",
    "    write.writerows(split_fix)"
   ]
  },
  {
   "cell_type": "code",
   "execution_count": null,
   "id": "8b91d030",
   "metadata": {},
   "outputs": [],
   "source": [
    "np_efix = np.asarray([np.array(line) for line in split_fix])\n",
    "reverse_efix = np_efix[::-1]\n",
    "reverse_efix\n",
    "pd.DataFrame(reverse_efix).to_csv(\"\"+ expect_dir + 'efix.csv', index_label = \"Index\", header  = ['Type','Eye','Start_time','End_time','Duration','Avg_x', 'Avg_y', 'Angle'])"
   ]
  },
  {
   "cell_type": "code",
   "execution_count": null,
   "id": "a4ff9adf",
   "metadata": {},
   "outputs": [],
   "source": [
    "print(miss)\n",
    "for i in range(len(miss)):\n",
    "    miss[i] = miss[i].replace('\\t', ' ')\n",
    "split_miss = np.char.split(miss)\n"
   ]
  },
  {
   "cell_type": "code",
   "execution_count": null,
   "id": "6194c4a8",
   "metadata": {},
   "outputs": [],
   "source": [
    "import csv\n",
    "with open(\"\"+ expect_dir + 'miss.csv', 'w') as f:\n",
    "      \n",
    "    # using csv.writer method from CSV package\n",
    "    write = csv.writer(f)\n",
    "    write.writerows(split_miss)"
   ]
  },
  {
   "cell_type": "code",
   "execution_count": null,
   "id": "3e0b6333",
   "metadata": {},
   "outputs": [],
   "source": [
    "print(sacc)\n",
    "for i in range(len(sacc)):\n",
    "    sacc[i] = sacc[i].replace('\\t', ' ')\n",
    "split_sacc = np.char.split(sacc)\n",
    "print(split_sacc)"
   ]
  },
  {
   "cell_type": "code",
   "execution_count": null,
   "id": "54e2bfee",
   "metadata": {},
   "outputs": [],
   "source": [
    "import csv\n",
    "with open('sacc.csv', 'w') as f:\n",
    "      \n",
    "    # using csv.writer method from CSV package\n",
    "    write = csv.writer(f)\n",
    "    write.writerows(split_sacc)"
   ]
  },
  {
   "cell_type": "code",
   "execution_count": null,
   "id": "89850650",
   "metadata": {},
   "outputs": [],
   "source": [
    "for i in reversed(range(np.shape(split_sacc)[0])):\n",
    "    if split_sacc[i][0] == \"SSACC\":\n",
    "        split_sacc = np.delete(split_sacc, i, 0)\n",
    "print(split_sacc)"
   ]
  },
  {
   "cell_type": "code",
   "execution_count": null,
   "id": "5b23126d",
   "metadata": {},
   "outputs": [],
   "source": [
    "np_esacc = np.asarray([np.array(line) for line in split_sacc])\n",
    "reverse_esacc = np_esacc[::-1]\n",
    "reverse_esacc\n",
    "pd.DataFrame(reverse_esacc).to_csv(\"\"+ expect_dir + 'esacc.csv', index_label = \"Index\", header  = ['Type','Eye','Start_time','End_time','Duration','cood_1', 'cood_2', 'cood_3', 'cood_4','cood_5', 'cood_6'])"
   ]
  },
  {
   "cell_type": "code",
   "execution_count": null,
   "id": "e0ee882e",
   "metadata": {},
   "outputs": [],
   "source": [
    "print(blink)\n",
    "for i in range(len(blink)):\n",
    "    blink[i] = blink[i].replace('\\t', ' ')\n",
    "split_blink = np.char.split(blink)\n",
    "print(split_blink)"
   ]
  },
  {
   "cell_type": "code",
   "execution_count": null,
   "id": "5e122c60",
   "metadata": {},
   "outputs": [],
   "source": [
    "with open('blink.csv', 'w') as f:\n",
    "      \n",
    "    # using csv.writer method from CSV package\n",
    "    write = csv.writer(f)\n",
    "    write.writerows(split_blink)"
   ]
  },
  {
   "cell_type": "code",
   "execution_count": null,
   "id": "0b7b63a4",
   "metadata": {},
   "outputs": [],
   "source": [
    "for i in reversed(range(np.shape(split_blink)[0])):\n",
    "    if split_blink[i][0] == \"SBLINK\":\n",
    "        split_blink = np.delete(split_blink, i, 0)\n",
    "print(split_blink)\n",
    "np_blink = np.asarray([np.array(line) for line in split_blink])\n",
    "reverse_blink = np_blink[::-1]\n",
    "reverse_blink\n",
    "pd.DataFrame(reverse_blink).to_csv(\"\"+ expect_dir + 'eblink.csv', index_label = \"Index\", header  = ['Type','Eye','Start_time','End_time','Duration'])"
   ]
  },
  {
   "attachments": {},
   "cell_type": "markdown",
   "id": "27ff0c89",
   "metadata": {},
   "source": [
    "# Start matching marker and data"
   ]
  },
  {
   "cell_type": "code",
   "execution_count": null,
   "id": "f5823245",
   "metadata": {},
   "outputs": [],
   "source": [
    "import pandas as pd\n",
    "headers = ['col1', 'col2', 'col3', 'col4', 'col5', 'col6']\n",
    "data_f = pd.read_csv(\"\"+ expect_dir + 'data.csv', sep=',', skiprows = 1, header=None, names=headers, dtype={\"col1\": int, \"col2\": float, \"col3\": object, \"col4\": object, \"col5\": float, \"col6\": float})\n",
    "data = data_f.to_numpy()\n",
    "print(data)"
   ]
  },
  {
   "cell_type": "code",
   "execution_count": null,
   "id": "c0cf8d1f",
   "metadata": {},
   "outputs": [],
   "source": [
    "# Fixation\n",
    "headers = ['col1', 'col2', 'col3', 'col4', 'col5', 'col6', 'col7', 'col8', 'col9']\n",
    "fix_f = pd.read_csv(\"\"+ expect_dir + 'efix.csv', sep=',', skiprows = 1, header=None, names=headers, dtype={\"col1\": int, \"col2\": object, \"col3\": object, \"col4\": float, \"col5\": float, \"col6\": float, \"col7\": float, \"col8\": float, \"col9\": float})\n",
    "fix_marker = fix_f.to_numpy()\n",
    "\n",
    "# Blink\n",
    "headers = ['col1', 'col2', 'col3', 'col4', 'col5', 'col6']\n",
    "blink_f = pd.read_csv(\"\"+ expect_dir + 'eblink.csv', sep=',', skiprows = 1, header=None, names=headers, dtype={\"col1\": int, \"col2\": object, \"col3\": object, \"col4\": float, \"col5\": float, \"col6\": float})\n",
    "blink_marker = blink_f.to_numpy()\n",
    "\n",
    "#sacc\n",
    "headers = ['col1', 'col2', 'col3', 'col4', 'col5', 'col6', 'col7', 'col8', 'col9', 'col10', 'col11', 'col12']\n",
    "sacc_f = pd.read_csv(\"\"+ expect_dir + 'esacc.csv', sep=',', skiprows = 1, header=None, names=headers, dtype={\"col1\": int, \"col2\": object, \"col3\": object, \"col4\": float, \"col5\": float, \"col6\": float, \"col7\": float, \"col8\": float, \"col9\": float, \"col10\": float, \"col11\": float, \"col12\": float})\n",
    "sacc_marker = sacc_f.to_numpy()\n",
    "print(type(sacc_marker))\n",
    "# for record in sacc_marker:\n",
    "#     start_time = record[3]\n",
    "#     end_time = record[4]\n",
    "#     print(start_time,end_time)"
   ]
  },
  {
   "cell_type": "code",
   "execution_count": null,
   "id": "b15d6fc7",
   "metadata": {},
   "outputs": [],
   "source": [
    "data_marker = np.empty((np.shape(data)[0], 2), dtype=object)\n",
    "data_marker[:] = \"\"\n"
   ]
  },
  {
   "cell_type": "code",
   "execution_count": null,
   "id": "3c1738cb",
   "metadata": {},
   "outputs": [],
   "source": [
    "fix_index = 0\n",
    "blink_index = 0\n",
    "sacc_index = 0\n",
    "\n",
    "# def update_index(current_time, fix_index, blink_index, sacc_index):\n",
    "#     current_fix = fix_marker[fix_index]\n",
    "#     current_blink = blink_marker[blink_index]\n",
    "#     current_sacc = sacc_marker[sacc_index]\n",
    "#     if current_fix[4] < current_time:\n",
    "#         fix_index += 1\n",
    "#     if current_blink[4] < current_time:\n",
    "#         blink_index += 1\n",
    "#     if current_sacc[4] < current_time:\n",
    "#         sacc_index += 1\n",
    "\n",
    "\n",
    "for i in range(np.shape(data)[0]):\n",
    "    record = data[i]\n",
    "    current_time = record[1]\n",
    "    if fix_index < len(fix_marker) and fix_marker[fix_index][4] < current_time:\n",
    "        fix_index += 1\n",
    "    if blink_index < len(blink_marker) and blink_marker[blink_index][4] < current_time:\n",
    "        blink_index += 1\n",
    "    if sacc_index < len(sacc_marker) and sacc_marker[sacc_index][4] < current_time:\n",
    "        sacc_index += 1\n",
    "\n",
    "    if fix_index < len(fix_marker) and current_time >= fix_marker[fix_index][3] and current_time <= fix_marker[fix_index][4]:\n",
    "        data_marker[i] = [\"fix\", fix_marker[fix_index][0]]\n",
    "    elif blink_index < len(blink_marker) and current_time >= blink_marker[blink_index][3] and current_time <= blink_marker[blink_index][4]:\n",
    "        data_marker[i] = [\"blink\", blink_marker[blink_index][0]]\n",
    "    elif sacc_index < len(sacc_marker) and current_time >= sacc_marker[sacc_index][3] and current_time <= sacc_marker[sacc_index][4]:\n",
    "        data_marker[i] = [\"sacc\", sacc_marker[sacc_index][0]]\n",
    "    else:\n",
    "        continue"
   ]
  },
  {
   "cell_type": "code",
   "execution_count": null,
   "id": "187cbfcd",
   "metadata": {},
   "outputs": [],
   "source": [
    "data_marker"
   ]
  },
  {
   "cell_type": "code",
   "execution_count": null,
   "id": "e00cb1fc",
   "metadata": {},
   "outputs": [],
   "source": [
    "new_data = np.concatenate((data, data_marker), axis = 1)\n",
    "new_data"
   ]
  },
  {
   "cell_type": "code",
   "execution_count": null,
   "id": "a46fc9a6",
   "metadata": {},
   "outputs": [],
   "source": [
    "pd.DataFrame(new_data).to_csv(\"\"+ expect_dir + 'match_data.csv', index = False, header  = ['Index', 'Time','x','y','pupil size','CR', 'event marker', 'event index'])"
   ]
  },
  {
   "attachments": {},
   "cell_type": "markdown",
   "id": "e9b5b2a0",
   "metadata": {},
   "source": [
    "# Start matching coordinate and picture data"
   ]
  },
  {
   "cell_type": "code",
   "execution_count": null,
   "id": "72ecd06c",
   "metadata": {},
   "outputs": [],
   "source": [
    "import pandas as pd\n",
    "headers = ['col1', 'col2', 'col3', 'col4', 'col5', 'col6', 'col7', 'col8']\n",
    "data_f = pd.read_csv(\"\"+ expect_dir + 'match_data.csv', sep=',', skiprows = 1, header=None, names=headers, dtype={\"col1\": int, \"col2\": float, \"col3\": object, \"col4\": object, \"col5\": float, \"col6\": float, \"col7\": object, \"col8\": object})\n",
    "data = data_f.to_numpy()\n",
    "print(data)"
   ]
  },
  {
   "cell_type": "code",
   "execution_count": null,
   "id": "a55e3807",
   "metadata": {},
   "outputs": [],
   "source": [
    "headers = ['col1', 'col2', 'col3', 'col4']\n",
    "msg_f = pd.read_csv(\"\"+ expect_dir + 'msg.csv', sep=',', skiprows = 1, header=None, names=headers, dtype={\"col1\": int, \"col2\": object, \"col3\": float, \"col4\": object})\n",
    "msg = msg_f.to_numpy()\n",
    "msg"
   ]
  },
  {
   "cell_type": "code",
   "execution_count": null,
   "id": "d43863da",
   "metadata": {},
   "outputs": [],
   "source": [
    "msg_marker = np.empty((np.shape(data)[0], 2), dtype=object)\n",
    "msg_marker[:] = \"\"\n"
   ]
  },
  {
   "cell_type": "code",
   "execution_count": null,
   "id": "ef268b49",
   "metadata": {},
   "outputs": [],
   "source": [
    "np.shape(msg)"
   ]
  },
  {
   "cell_type": "code",
   "execution_count": null,
   "id": "a9a61b75",
   "metadata": {},
   "outputs": [],
   "source": [
    "def check_inpic(x, y, img_msg):\n",
    "    [mid_x, mid_y, width, height] = img_msg[1:]\n",
    "    start_x = float(mid_x) - float(width) / 2\n",
    "    start_y = float(mid_y) - float(height) / 2\n",
    "    end_x = float(mid_x) + float(width) / 2\n",
    "    end_y = float(mid_y) + float(height) / 2\n",
    "    print(start_x, start_y, end_x, end_y)\n",
    "    try:\n",
    "        x = float(x)\n",
    "        y = float(y)\n",
    "        if x >= start_x and x <= end_x and y >= start_y and y <= end_y:\n",
    "            return True\n",
    "        return False\n",
    "    except:\n",
    "        return False\n",
    "\n",
    "\n",
    "def process_forcedmemory(msg_marker, msg, data, current_data_index, current_msg_index):\n",
    "    assert(\"forcedmemory_start\" in msg[current_msg_index][3])\n",
    "    start_msg_index = current_msg_index\n",
    "    event_name = msg[start_msg_index][3]\n",
    "    img_msg = []\n",
    "    start_time = msg[start_msg_index][2]\n",
    "    end_time = -1\n",
    "    while(1):\n",
    "        current_msg_index += 1\n",
    "        if \"IMGLOAD CENTER\" in msg[current_msg_index][3]:\n",
    "            img_msg = msg[current_msg_index][3].split(\" \")[3:] \n",
    "            # img_msg: [pic_loc, x, y, width, height]\n",
    "        elif \"forcedmemory_end\" in msg[current_msg_index][3]:\n",
    "            end_time = msg[current_msg_index][2]\n",
    "            break\n",
    "\n",
    "    while data[current_data_index][1] <= start_time:\n",
    "        current_data_index += 1\n",
    "\n",
    "    while data[current_data_index][1] <= end_time:\n",
    "        msg_marker[current_data_index][0] = event_name\n",
    "        current_x = data[current_data_index][2]\n",
    "        current_y = data[current_data_index][3]\n",
    "        if check_inpic(current_x, current_y, img_msg):\n",
    "            msg_marker[current_data_index][1] = img_msg[0]\n",
    "        else:\n",
    "            msg_marker[current_data_index][1] = \"not on pics\"\n",
    "        current_data_index += 1 \n",
    "    return [current_data_index, current_msg_index, msg_marker]\n",
    " \n",
    "\n",
    "def check_inbox(x, y, box_msg):\n",
    "    [start_x, start_y, end_x, end_y] = box_msg\n",
    "    start_x = float(start_x)\n",
    "    start_y = float(start_y)\n",
    "    end_x = float(end_x)\n",
    "    end_y = float(end_y)\n",
    "    try:\n",
    "        x = float(x)\n",
    "        y = float(y)\n",
    "        if x >= start_x and x <= end_x and y >= start_y and y <= end_y:\n",
    "            return True\n",
    "        return False\n",
    "    except:\n",
    "        return False\n",
    "\n",
    "def fix_on_picnum(x, y, img_msg_bottom, img_msg_left, img_msg_right):\n",
    "    if check_inpic(x, y, img_msg_bottom):\n",
    "        return 0\n",
    "    elif check_inpic(x, y, img_msg_left):\n",
    "        return 1\n",
    "    elif check_inpic(x, y, img_msg_right):\n",
    "        return 2\n",
    "    else:\n",
    "        return -1\n",
    "\n",
    "\n",
    "def fix_on_boxnum(x, y, box_msg_bottom, box_msg_left, box_msg_right):\n",
    "    if check_inbox(x, y, box_msg_bottom):\n",
    "        return 0\n",
    "    elif check_inbox(x, y, box_msg_left):\n",
    "        return 1\n",
    "    elif check_inbox(x, y, box_msg_right):\n",
    "        return 2\n",
    "    else:\n",
    "        return -1\n",
    "\n",
    "\n",
    "def process_forcedchoice(msg_marker, msg, data, current_data_index, current_msg_index):\n",
    "    assert(\"forcedchoice_start\" in msg[current_msg_index][3])\n",
    "    start_msg_index = current_msg_index\n",
    "    event_name = msg[start_msg_index][3]\n",
    "    img_msgs = []\n",
    "    box_msgs = []\n",
    "    start_time = msg[start_msg_index][2]\n",
    "    end_time = -1\n",
    "    while(1):\n",
    "        current_msg_index += 1\n",
    "        if \"IMGLOAD CENTER\" in msg[current_msg_index][3]:\n",
    "            img_msgs.append(msg[current_msg_index][3].split(\" \")[3:])\n",
    "            # img_msg: [pic_loc, x, y, width, height]\n",
    "        elif \"DRAWBOX\" in msg[current_msg_index][3]:\n",
    "            box_msgs.append(msg[current_msg_index][3].split(\" \")[5:])\n",
    "            # img_msg: [x, y, width, height]\n",
    "        elif \"forcedchoice_end\" in msg[current_msg_index][3]:\n",
    "            end_time = msg[current_msg_index][2]\n",
    "            break\n",
    "    \n",
    "    while data[current_data_index][1] <= start_time:\n",
    "        current_data_index += 1\n",
    "\n",
    "    while data[current_data_index][1] <= end_time:\n",
    "        msg_marker[current_data_index][0] = event_name\n",
    "        current_x = data[current_data_index][2]\n",
    "        current_y = data[current_data_index][3]\n",
    "        fix_pic_num = fix_on_picnum(current_x, current_y, img_msgs[0], img_msgs[1], img_msgs[2])\n",
    "        fix_box_num = fix_on_boxnum(current_x, current_y, box_msgs[0], box_msgs[1], box_msgs[2])\n",
    "        # 0: bottom, 1: left, 2: right, -1: none\n",
    "        if fix_pic_num != -1:\n",
    "            msg_marker[current_data_index][1] = img_msgs[fix_pic_num][0]\n",
    "        elif fix_box_num != -1:\n",
    "            if fix_box_num == 0:\n",
    "                msg_marker[current_data_index][1] = \"box_bottom\"\n",
    "            elif fix_box_num == 1:\n",
    "                msg_marker[current_data_index][1] = \"box_left\"\n",
    "            elif fix_box_num == 2:\n",
    "                msg_marker[current_data_index][1] = \"box_right\"\n",
    "        else:\n",
    "            msg_marker[current_data_index][1] = \"out\"\n",
    "        current_data_index += 1 \n",
    "    return [current_data_index, current_msg_index, msg_marker]"
   ]
  },
  {
   "cell_type": "code",
   "execution_count": null,
   "id": "00abd35a",
   "metadata": {},
   "outputs": [],
   "source": [
    "current_msg_index = 0\n",
    "current_data_index = 0\n",
    "while current_msg_index < np.shape(msg)[0]:\n",
    "    if \"forcedchoice_start\" in msg[current_msg_index][3]:\n",
    "        [current_data_index, current_msg_index, msg_marker] = process_forcedchoice(msg_marker, msg, data, current_data_index, current_msg_index)\n",
    "    elif \"forcedmemory_start\" in msg[current_msg_index][3]:\n",
    "        [current_data_index, current_msg_index, msg_marker] = process_forcedmemory(msg_marker, msg, data, current_data_index, current_msg_index)\n",
    "    current_msg_index += 1\n",
    "pd.DataFrame(msg_marker).to_csv(\"\"+ expect_dir + 'msg_marker.csv', index = True, header  = ['event', 'fix'])"
   ]
  },
  {
   "cell_type": "code",
   "execution_count": null,
   "id": "7302e551",
   "metadata": {},
   "outputs": [],
   "source": [
    "matched_data_pic = np.concatenate((data, msg_marker), axis = 1)\n",
    "matched_data_pic\n",
    "pd.DataFrame(matched_data_pic).to_csv(\"\"+ expect_dir + 'final_data.csv', index = False, header  = ['Index', 'Time','x','y','pupil size','CR', 'movement_marker', 'movement_index', 'pic_marker', 'behavior'])"
   ]
  },
  {
   "cell_type": "code",
   "execution_count": null,
   "id": "e9bb6d53",
   "metadata": {},
   "outputs": [],
   "source": []
  }
 ],
 "metadata": {
  "kernelspec": {
   "display_name": "Python 3",
   "language": "python",
   "name": "python3"
  },
  "language_info": {
   "codemirror_mode": {
    "name": "ipython",
    "version": 3
   },
   "file_extension": ".py",
   "mimetype": "text/x-python",
   "name": "python",
   "nbconvert_exporter": "python",
   "pygments_lexer": "ipython3",
   "version": "3.10.9"
  }
 },
 "nbformat": 4,
 "nbformat_minor": 5
}
